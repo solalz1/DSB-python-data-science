{
 "cells": [
  {
   "cell_type": "markdown",
   "id": "201258af-24ab-47d7-8ca8-c3732878c2c4",
   "metadata": {},
   "source": [
    "# Lab 1"
   ]
  },
  {
   "cell_type": "code",
   "execution_count": 2,
   "id": "8cb79135-8a3a-4cb3-a1f8-2f35a4ed7e03",
   "metadata": {},
   "outputs": [],
   "source": [
    "import math\n",
    "import numpy as np \n",
    "from sklearn import linear_model\n",
    "from os import mkdir\n",
    "import string\n",
    "from numpy import linalg"
   ]
  },
  {
   "cell_type": "markdown",
   "id": "a7d37d91-603c-4969-b5c5-ca6eb9e773c6",
   "metadata": {},
   "source": [
    "## Strings"
   ]
  },
  {
   "cell_type": "markdown",
   "id": "6b412aea-5e82-43b5-ae4d-c96ba36142ac",
   "metadata": {},
   "source": [
    "### Q1"
   ]
  },
  {
   "cell_type": "code",
   "execution_count": 30,
   "id": "7cd6e058-d11a-4701-bdeb-c59be03096a7",
   "metadata": {},
   "outputs": [
    {
     "data": {
      "text/plain": [
       "'abcdefghijklmnopqrstuvwxyz'"
      ]
     },
     "execution_count": 30,
     "metadata": {},
     "output_type": "execute_result"
    }
   ],
   "source": [
    "alph = string.ascii_lowercase # function from the string library returning the whole alphabet\n",
    "alph"
   ]
  },
  {
   "cell_type": "code",
   "execution_count": 44,
   "id": "2cef7369-aa52-40bf-9655-7680e96e629e",
   "metadata": {},
   "outputs": [
    {
     "data": {
      "text/plain": [
       "'cfilorux'"
      ]
     },
     "execution_count": 44,
     "metadata": {},
     "output_type": "execute_result"
    }
   ],
   "source": [
    "alph[2::3] # slicing from the 3rd element of the string until the last one from 3 to 3"
   ]
  },
  {
   "cell_type": "markdown",
   "id": "77841eeb-a222-4b12-b046-b16e49b34679",
   "metadata": {},
   "source": [
    "### Q2"
   ]
  },
  {
   "cell_type": "code",
   "execution_count": 46,
   "id": "1599a6d0-11b4-411d-9c8a-b225b28cbfd9",
   "metadata": {},
   "outputs": [],
   "source": [
    "xhec = \" XHEC DataScience for Business \""
   ]
  },
  {
   "cell_type": "code",
   "execution_count": 56,
   "id": "d3e26596-f380-49eb-ae31-ffb863c67162",
   "metadata": {},
   "outputs": [
    {
     "data": {
      "text/plain": [
       "' xhec datascience for business '"
      ]
     },
     "execution_count": 56,
     "metadata": {},
     "output_type": "execute_result"
    }
   ],
   "source": [
    "# Put the string in lowercase\n",
    "xhec.lower()"
   ]
  },
  {
   "cell_type": "code",
   "execution_count": 66,
   "id": "d5023b70-79a0-4f7a-b2fb-bbad6b13fb6b",
   "metadata": {},
   "outputs": [
    {
     "data": {
      "text/plain": [
       "'XHEC DataScience for Business'"
      ]
     },
     "execution_count": 66,
     "metadata": {},
     "output_type": "execute_result"
    }
   ],
   "source": [
    "# Remove spaces at the beginning and the end with the strip function\n",
    "xhec.strip()"
   ]
  },
  {
   "cell_type": "code",
   "execution_count": 72,
   "id": "17e0aad3-7646-49a2-9d0a-fca867c81541",
   "metadata": {},
   "outputs": [
    {
     "data": {
      "text/plain": [
       "' XHEC DataSciEncE for BusinEss '"
      ]
     },
     "execution_count": 72,
     "metadata": {},
     "output_type": "execute_result"
    }
   ],
   "source": [
    "xhec.replace(\"e\",\"E\") # Replace all lower e's with caps E's"
   ]
  },
  {
   "cell_type": "markdown",
   "id": "0c03d514-7df5-4ef2-a31f-ba8e7447d065",
   "metadata": {},
   "source": [
    "### Q3"
   ]
  },
  {
   "cell_type": "code",
   "execution_count": 89,
   "id": "34a3b3d7-6765-4802-bfe0-7fe56defe656",
   "metadata": {},
   "outputs": [
    {
     "data": {
      "text/plain": [
       "'3.141592654'"
      ]
     },
     "execution_count": 89,
     "metadata": {},
     "output_type": "execute_result"
    }
   ],
   "source": [
    "# With the format method \n",
    "\"{:.9f}\".format(np.pi)"
   ]
  },
  {
   "cell_type": "code",
   "execution_count": 128,
   "id": "00468959-412f-463f-aa2b-7ade03a8440a",
   "metadata": {},
   "outputs": [
    {
     "data": {
      "text/plain": [
       "'{3.141592654}'"
      ]
     },
     "execution_count": 128,
     "metadata": {},
     "output_type": "execute_result"
    }
   ],
   "source": [
    "# With the % operator  \n",
    "\"{%.9f}\" % np.pi"
   ]
  },
  {
   "cell_type": "markdown",
   "id": "a15b9a79-7552-4891-9d1d-6e57c8dd8c20",
   "metadata": {},
   "source": [
    "### Q4"
   ]
  },
  {
   "cell_type": "code",
   "execution_count": 139,
   "id": "2c227ccf-5a1d-41b3-905a-56cf6c671b09",
   "metadata": {},
   "outputs": [
    {
     "data": {
      "text/plain": [
       "'hello world!!'"
      ]
     },
     "execution_count": 139,
     "metadata": {},
     "output_type": "execute_result"
    }
   ],
   "source": [
    "s = \"HelLo WorLd!!\"\n",
    "s2 = s.lower()\n",
    "s2"
   ]
  },
  {
   "cell_type": "code",
   "execution_count": 143,
   "id": "4379a729-f991-4027-b23a-00917153be3b",
   "metadata": {},
   "outputs": [
    {
     "name": "stdout",
     "output_type": "stream",
     "text": [
      "{'h': 1, 'e': 1, 'l': 3, 'o': 2, ' ': 1, 'w': 1, 'r': 1, 'd': 1, '!': 2}\n"
     ]
    }
   ],
   "source": [
    "characters = {} # creating an empty dictionary\n",
    "\n",
    "for char in s2:\n",
    "    if char in characters:\n",
    "        characters[char] +=1 # if the character is already in the dictionary i.e. not the first time it is seen in the string\n",
    "    else:\n",
    "        characters[char] = 1 # else put the character in the dictionary for the first time\n",
    "\n",
    "print(characters)"
   ]
  },
  {
   "cell_type": "markdown",
   "id": "fde33d18-b870-4d0c-90de-c1aefe68d0e2",
   "metadata": {},
   "source": [
    "## Numpy basic plots"
   ]
  },
  {
   "cell_type": "markdown",
   "id": "59c5cdf3-431d-4cb8-8000-0fd0401b7903",
   "metadata": {},
   "source": [
    "### Q5"
   ]
  },
  {
   "cell_type": "code",
   "execution_count": 72,
   "id": "464cf939-7544-48c2-beea-62a30dde108c",
   "metadata": {},
   "outputs": [
    {
     "data": {
      "text/plain": [
       "0.09999999999999432"
      ]
     },
     "execution_count": 72,
     "metadata": {},
     "output_type": "execute_result"
    }
   ],
   "source": [
    "result = 0.1 + 100 - 100\n",
    "result"
   ]
  },
  {
   "cell_type": "code",
   "execution_count": 74,
   "id": "9af629fb-4098-4915-8052-039576a5aafb",
   "metadata": {},
   "outputs": [
    {
     "data": {
      "text/plain": [
       "False"
      ]
     },
     "execution_count": 74,
     "metadata": {},
     "output_type": "execute_result"
    }
   ],
   "source": [
    "result == 0.1"
   ]
  },
  {
   "cell_type": "code",
   "execution_count": 76,
   "id": "c6c75e31-f425-4a62-8160-096734ba2b30",
   "metadata": {},
   "outputs": [
    {
     "data": {
      "text/plain": [
       "'{0.1000000000000000055511151231257827021181583404541015625000000000000000000000000000000000000000000000}'"
      ]
     },
     "execution_count": 76,
     "metadata": {},
     "output_type": "execute_result"
    }
   ],
   "source": [
    "\"{%.100f}\" % 0.1"
   ]
  },
  {
   "cell_type": "markdown",
   "id": "4138b670-cfde-4588-85ad-7ed52c16a154",
   "metadata": {},
   "source": [
    "> If we look close enough, even the floating point 0.1 is off and not equal to 0.1 as there is a small discrepancy due to  precision error in binary representation (certain decimal numbers cannot be exactly represented in binary). Unlike integers, decimal numbers do not all have exact representations in binary, and due to the limited amount of memory the computer allocates to each number, it has to truncate the number (or round it up to some decimal) in order to be able to store it, which leads to a small approximation error."
   ]
  },
  {
   "cell_type": "code",
   "execution_count": 78,
   "id": "8d26a04d-c515-4c77-a1dd-778abc5e9550",
   "metadata": {},
   "outputs": [
    {
     "data": {
      "text/plain": [
       "True"
      ]
     },
     "execution_count": 78,
     "metadata": {},
     "output_type": "execute_result"
    }
   ],
   "source": [
    "np.allclose(result, 0.1)\n",
    "# Numpy judges both values to be equal as by definition it has a small error tolerance."
   ]
  },
  {
   "cell_type": "markdown",
   "id": "cb61499f-086d-4dd4-bf7f-8a76fdd2e232",
   "metadata": {},
   "source": [
    "### Q6"
   ]
  },
  {
   "cell_type": "code",
   "execution_count": 466,
   "id": "d9e3484d-b7e4-4e67-a56b-1ce01c5099d5",
   "metadata": {},
   "outputs": [
    {
     "data": {
      "text/plain": [
       "array([  1,   4,   9,  16,  25,  36,  49,  64,  81, 100, 121])"
      ]
     },
     "execution_count": 466,
     "metadata": {},
     "output_type": "execute_result"
    }
   ],
   "source": [
    "# Using numpy:\n",
    "c = (np.arange(1,12))**2\n",
    "c"
   ]
  },
  {
   "cell_type": "code",
   "execution_count": 468,
   "id": "dfd75408-e559-4f9d-99e4-54d8921f778a",
   "metadata": {},
   "outputs": [
    {
     "data": {
      "text/plain": [
       "[1, 4, 9, 16, 25, 36, 49, 64, 81, 100, 121]"
      ]
     },
     "execution_count": 468,
     "metadata": {},
     "output_type": "execute_result"
    }
   ],
   "source": [
    "# Using a for loop:\n",
    "l = []\n",
    "for i in range(1,12):\n",
    "    l.append(i**2)\n",
    "l"
   ]
  },
  {
   "cell_type": "markdown",
   "id": "fd349d71-b965-497d-a237-7de27c3c8521",
   "metadata": {},
   "source": [
    "> Numpy n-d arrays are better whenever possible as Numpy performs vectorized operations, meaning that mathematical operations are applied element-wise across entire arrays without the need for iterative procedures (loops) that may be more expensive to process."
   ]
  },
  {
   "cell_type": "markdown",
   "id": "e7454df4-b402-4faf-9bec-b57f0ab780d3",
   "metadata": {},
   "source": [
    "### Q7"
   ]
  },
  {
   "cell_type": "code",
   "execution_count": 215,
   "id": "9c71b2c6-4284-4e1e-bdb7-46d210f3a9a7",
   "metadata": {},
   "outputs": [
    {
     "data": {
      "text/plain": [
       "array([ 2,  5,  8, 11])"
      ]
     },
     "execution_count": 215,
     "metadata": {},
     "output_type": "execute_result"
    }
   ],
   "source": [
    "arr = np.arange(2,14,3)\n",
    "arr"
   ]
  },
  {
   "cell_type": "code",
   "execution_count": 7,
   "id": "218c256e-cc6a-41d7-af51-61d2a2ad9523",
   "metadata": {},
   "outputs": [
    {
     "data": {
      "text/plain": [
       "array([0.        , 0.07142857, 0.14285714, 0.21428571, 0.28571429,\n",
       "       0.35714286, 0.42857143, 0.5       , 0.57142857, 0.64285714,\n",
       "       0.71428571, 0.78571429, 0.85714286, 0.92857143, 1.        ])"
      ]
     },
     "execution_count": 7,
     "metadata": {},
     "output_type": "execute_result"
    }
   ],
   "source": [
    "np.linspace(0,1,15)"
   ]
  },
  {
   "cell_type": "markdown",
   "id": "df15656c-366d-4773-894d-aa75230650c0",
   "metadata": {},
   "source": [
    "### Q8"
   ]
  },
  {
   "cell_type": "code",
   "execution_count": 456,
   "id": "bb52a9b5-d4b9-4b88-abf8-61a932ae96ed",
   "metadata": {},
   "outputs": [
    {
     "name": "stdout",
     "output_type": "stream",
     "text": [
      "3.1415925750514972\n",
      "1.5898208618164062 seconds\n",
      "3.1415925750808458\n",
      "0.011342763900756836 seconds\n",
      "9.96 ms ± 39.1 μs per loop (mean ± std. dev. of 7 runs, 100 loops each)\n"
     ]
    }
   ],
   "source": [
    "import time\n",
    "\n",
    "# With for loop\n",
    "x = 2\n",
    "n = 10_000_000\n",
    "start_time = time.time() # what time is it when the operation starts\n",
    "for k in range(1, n):\n",
    "    x = x * (4*(k**2))/(4*(k**2)-1)\n",
    "print(x)\n",
    "stop_time = time.time() # what time is it when the operation ends\n",
    "\n",
    "time_taken = stop_time - start_time \n",
    "\n",
    "print(f\"{time_taken} seconds\")"
   ]
  },
  {
   "cell_type": "code",
   "execution_count": 462,
   "id": "e2efd650-a9c0-4432-916b-ceea806c969c",
   "metadata": {},
   "outputs": [
    {
     "name": "stdout",
     "output_type": "stream",
     "text": [
      "3.1415925750808458\n",
      "0.012832164764404297 seconds\n"
     ]
    }
   ],
   "source": [
    "# Without for loop\n",
    "k = np.arange(1,10_000_000)\n",
    "product = (4*(k**2))/(4*(k**2)-1)\n",
    "start_time = time.time()\n",
    "result = 2* np.prod(product)\n",
    "\n",
    "print(result)\n",
    "stop_time = time.time()\n",
    "\n",
    "time_taken = stop_time - start_time\n",
    "print(f\"{time_taken} seconds\")\n",
    "\n",
    "# The numpy version (without any loop) is faster, the time difference is even more significant as operations increase (higher n)."
   ]
  },
  {
   "cell_type": "code",
   "execution_count": 460,
   "id": "ee8d2713-d8b2-4be4-97ba-63b306a6ef28",
   "metadata": {},
   "outputs": [
    {
     "name": "stdout",
     "output_type": "stream",
     "text": [
      "10 ms ± 168 μs per loop (mean ± std. dev. of 7 runs, 100 loops each)\n"
     ]
    }
   ],
   "source": [
    "# Time with ipython magic %timeit\n",
    "k = np.arange(1,10_000_000)\n",
    "product = (4*(k**2))/(4*(k**2)-1)\n",
    "%timeit result = 2* np.prod(product)"
   ]
  },
  {
   "cell_type": "markdown",
   "id": "e6ab642c",
   "metadata": {},
   "source": [
    "> `%timeit` is better as it runs the code multiple times and provides the average time (along with standard deviation) while `time.time()` only records the time once. Thus, it may not take into account other factors such as other programs open on the computer at the same time which may increase CPU load and lead to lower execution times. `%timeit` thus provides a more accurate representation of the actual time used to run the operation."
   ]
  },
  {
   "cell_type": "markdown",
   "id": "07987c8b-dfdd-4c3a-8ebb-1f2eccd1ffe6",
   "metadata": {},
   "source": [
    "### Q9"
   ]
  },
  {
   "cell_type": "code",
   "execution_count": 96,
   "id": "3b148af4-27bb-4cc3-bbde-1b9f1fe847ae",
   "metadata": {},
   "outputs": [
    {
     "data": {
      "text/plain": [
       "10.0"
      ]
     },
     "execution_count": 96,
     "metadata": {},
     "output_type": "execute_result"
    }
   ],
   "source": [
    "np.dot(np.arange(5), np.ones(5))\n",
    "# Here, the product is not element-wise but the sum of the products of every elements from both matrices."
   ]
  },
  {
   "cell_type": "code",
   "execution_count": 166,
   "id": "dd04ed9e-8712-4fc3-a40c-5456bcd8a60c",
   "metadata": {},
   "outputs": [
    {
     "data": {
      "text/plain": [
       "(5,)"
      ]
     },
     "execution_count": 166,
     "metadata": {},
     "output_type": "execute_result"
    }
   ],
   "source": [
    "arange = np.arange(5)\n",
    "arange.shape\n",
    "# np.arange(5) is a 1-dimensional array of shape (5,), and a 1x5 matrix."
   ]
  },
  {
   "cell_type": "code",
   "execution_count": 167,
   "id": "6e00e0c1-113a-4eb3-861a-f3b94705a1f2",
   "metadata": {},
   "outputs": [
    {
     "data": {
      "text/plain": [
       "(5,)"
      ]
     },
     "execution_count": 167,
     "metadata": {},
     "output_type": "execute_result"
    }
   ],
   "source": [
    "arange.T.shape\n",
    "# As it is only one dimension, the transpose is the same as the original array. Transposing 1-D array does not do anything."
   ]
  },
  {
   "cell_type": "markdown",
   "id": "d75088b7-ced5-4ced-9a54-0ddc24fca502",
   "metadata": {},
   "source": [
    "### Q10"
   ]
  },
  {
   "cell_type": "code",
   "execution_count": 48,
   "id": "ae063c6f-9d8d-4fb3-a213-7c852a155d1e",
   "metadata": {},
   "outputs": [
    {
     "data": {
      "text/plain": [
       "array([[ 0,  1,  2,  3,  4,  5],\n",
       "       [ 6,  7,  8,  9, 10, 11]])"
      ]
     },
     "execution_count": 48,
     "metadata": {},
     "output_type": "execute_result"
    }
   ],
   "source": [
    "M = np.arange(12).reshape(2, 6)\n",
    "M\n",
    "# Here, the reshape function reshapes the 1x12 array to a 2x6 format (2 lines 6 columns), thus adding a dimension."
   ]
  },
  {
   "cell_type": "code",
   "execution_count": 54,
   "id": "db775707-3507-4399-b7ef-c75c7c52cb06",
   "metadata": {},
   "outputs": [
    {
     "data": {
      "text/plain": [
       "array([[0, 3],\n",
       "       [6, 9]])"
      ]
     },
     "execution_count": 54,
     "metadata": {},
     "output_type": "execute_result"
    }
   ],
   "source": [
    "M[:, ::3]"
   ]
  },
  {
   "cell_type": "markdown",
   "id": "577c65d9-a5d1-45b1-9ba0-b0f55dcaffd5",
   "metadata": {},
   "source": [
    "> `M[:, ::3]` slices the array by taking the elements of all the lines and 1 out of 3 columns."
   ]
  },
  {
   "cell_type": "code",
   "execution_count": 66,
   "id": "a8fb8a22-8329-4ffc-99d6-2d9517188ebd",
   "metadata": {},
   "outputs": [
    {
     "data": {
      "text/plain": [
       "array([[0, 0, 0],\n",
       "       [0, 1, 2],\n",
       "       [0, 2, 4],\n",
       "       [0, 3, 6]])"
      ]
     },
     "execution_count": 66,
     "metadata": {},
     "output_type": "execute_result"
    }
   ],
   "source": [
    "np.arange(3) * np.arange(4)[:, np.newaxis]"
   ]
  },
  {
   "cell_type": "markdown",
   "id": "2ba058e3-8fcc-4951-9041-24b3204434f9",
   "metadata": {},
   "source": [
    "> Here, `[:, np.newaxis]` is used to add a dimension to `np.arange(4)`in order to allow broadcasting. The array goes from shape (4,) to shape (4,1), while the other is of shape (3,). Thus, the product of both will be of shape (4,3)."
   ]
  },
  {
   "cell_type": "markdown",
   "id": "f30660f5-0834-4325-b4ea-84d1f1cad3c7",
   "metadata": {},
   "source": [
    "### Q11"
   ]
  },
  {
   "cell_type": "code",
   "execution_count": 422,
   "id": "8be08081-1988-45db-9e80-6b393e94e0c5",
   "metadata": {},
   "outputs": [
    {
     "data": {
      "text/plain": [
       "array([[-0.8554379 ,  0.61538928, -0.75224803, -0.08964261, -0.78091805,\n",
       "        -0.14017711],\n",
       "       [ 0.61064911, -0.33893479, -0.58146867, -0.22084874,  0.21255412,\n",
       "        -0.99718534],\n",
       "       [ 0.76991928, -0.3356787 ,  0.87414942, -0.36553624,  0.95823617,\n",
       "        -0.22655287],\n",
       "       [-0.33545699,  0.07499517, -0.31578763,  0.04854291, -0.06379169,\n",
       "         0.54713417],\n",
       "       [ 0.08187653,  0.8677349 , -0.85911713, -0.50476059, -0.88145535,\n",
       "         0.20146081]])"
      ]
     },
     "execution_count": 422,
     "metadata": {},
     "output_type": "execute_result"
    }
   ],
   "source": [
    "np.random.seed(32433454)\n",
    "M = np.random.uniform(-1, 1, (5, 6))\n",
    "even_columns =  M[:, 0::2]\n",
    "odd_columns = M[:, 1::2]\n",
    "even_columns -= 2*odd_columns"
   ]
  },
  {
   "cell_type": "markdown",
   "id": "3c7e6227-e4ec-4353-bd8a-acbec4aead39",
   "metadata": {},
   "source": [
    "### Q12"
   ]
  },
  {
   "cell_type": "code",
   "execution_count": 363,
   "id": "780ff0c0-1f3c-4f9c-a22a-873dd98e8304",
   "metadata": {},
   "outputs": [
    {
     "data": {
      "text/plain": [
       "array([[0.        , 0.61538928, 0.        , 0.        , 0.        ,\n",
       "        0.        ],\n",
       "       [1.2885187 , 0.        , 0.        , 0.        , 2.2069248 ,\n",
       "        0.        ],\n",
       "       [1.44127667, 0.        , 1.60522191, 0.        , 1.41134191,\n",
       "        0.        ],\n",
       "       [0.        , 0.07499517, 0.        , 0.04854291, 0.        ,\n",
       "        0.54713417],\n",
       "       [0.        , 0.8677349 , 0.15040404, 0.        , 0.        ,\n",
       "        0.20146081]])"
      ]
     },
     "execution_count": 363,
     "metadata": {},
     "output_type": "execute_result"
    }
   ],
   "source": [
    "# Replace negative values of M by 0\n",
    "M[M < 0] = 0\n",
    "M"
   ]
  },
  {
   "cell_type": "code",
   "execution_count": 369,
   "id": "bff3753a-340e-4c41-8943-07a35361e579",
   "metadata": {},
   "outputs": [
    {
     "data": {
      "text/plain": [
       "array([[0.10256488],\n",
       "       [0.58257392],\n",
       "       [0.74297341],\n",
       "       [0.11177871],\n",
       "       [0.20326663]])"
      ]
     },
     "execution_count": 369,
     "metadata": {},
     "output_type": "execute_result"
    }
   ],
   "source": [
    "# Mean of each row of M\n",
    "row_mean = np.mean(M, axis=1)\n",
    "row_mean.T[:, np.newaxis]"
   ]
  },
  {
   "cell_type": "code",
   "execution_count": 373,
   "id": "0c86b936-222d-42a3-a7d6-305b5d91c4e5",
   "metadata": {},
   "outputs": [
    {
     "data": {
      "text/plain": [
       "array([[-0.10256488,  0.5128244 , -0.10256488, -0.10256488, -0.10256488,\n",
       "        -0.10256488],\n",
       "       [ 0.70594478, -0.58257392, -0.58257392, -0.58257392,  1.62435088,\n",
       "        -0.58257392],\n",
       "       [ 0.69830326, -0.74297341,  0.86224849, -0.74297341,  0.66836849,\n",
       "        -0.74297341],\n",
       "       [-0.11177871, -0.03678354, -0.11177871, -0.0632358 , -0.11177871,\n",
       "         0.43535546],\n",
       "       [-0.20326663,  0.66446827, -0.05286258, -0.20326663, -0.20326663,\n",
       "        -0.00180582]])"
      ]
     },
     "execution_count": 373,
     "metadata": {},
     "output_type": "execute_result"
    }
   ],
   "source": [
    "# Substract to each row of M, its mean.\n",
    "M - row_mean.T[:, np.newaxis]"
   ]
  },
  {
   "cell_type": "markdown",
   "id": "eddbedb8-003f-40bd-9625-d5a317b04882",
   "metadata": {},
   "source": [
    "### Q13"
   ]
  },
  {
   "cell_type": "code",
   "execution_count": 182,
   "id": "4917efee-5831-4a66-b5b9-570dc3e34c20",
   "metadata": {},
   "outputs": [
    {
     "data": {
      "text/plain": [
       "True"
      ]
     },
     "execution_count": 182,
     "metadata": {},
     "output_type": "execute_result"
    }
   ],
   "source": [
    "np.random.seed(324334541)\n",
    "M = np.random.uniform(-1, 1, (5, 10))\n",
    "G = np.dot(M.T,M)\n",
    "np.allclose(G,G.T) # This returns True, meaning G is a symmetric matrix as it is equal to its transpose."
   ]
  },
  {
   "cell_type": "code",
   "execution_count": 189,
   "id": "425cf031-5998-49b3-bf4e-9e962ac129e5",
   "metadata": {},
   "outputs": [
    {
     "data": {
      "text/plain": [
       "array([ True,  True,  True,  True,  True,  True,  True,  True,  True,\n",
       "        True])"
      ]
     },
     "execution_count": 189,
     "metadata": {},
     "output_type": "execute_result"
    }
   ],
   "source": [
    "# Eigenvalues\n",
    "np.linalg.eigvals(G) >= 0\n",
    "# In this case, our eigenvalues are all positive, but this is not always the case (change the seed to see other examples)"
   ]
  },
  {
   "cell_type": "code",
   "execution_count": 184,
   "id": "3cebe784-3d9b-491a-bdf6-4200376e9c25",
   "metadata": {},
   "outputs": [
    {
     "name": "stdout",
     "output_type": "stream",
     "text": [
      "The rank of G is 5.\n"
     ]
    }
   ],
   "source": [
    "# Rank\n",
    "rank = np.linalg.matrix_rank(G)\n",
    "print(f\"The rank of G is {rank}.\")"
   ]
  },
  {
   "cell_type": "code",
   "execution_count": 186,
   "id": "cee0c075",
   "metadata": {},
   "outputs": [
    {
     "name": "stdout",
     "output_type": "stream",
     "text": [
      "Euclidean norm of G: 10.701984574215095\n"
     ]
    }
   ],
   "source": [
    "# Euclidean norm\n",
    "euclidean_norm_G = np.linalg.norm(G, ord='fro')\n",
    "print(f\"Euclidean norm of G: {euclidean_norm_G}\")"
   ]
  },
  {
   "cell_type": "code",
   "execution_count": 187,
   "id": "2efb5de8",
   "metadata": {},
   "outputs": [
    {
     "name": "stdout",
     "output_type": "stream",
     "text": [
      "Spectral (Operator) norm of G: 9.663430007383964\n"
     ]
    }
   ],
   "source": [
    "# Spectral norm\n",
    "spectral_norm = np.linalg.norm(G, ord=2)\n",
    "print(f\"Spectral (Operator) norm of G: {spectral_norm}\")"
   ]
  },
  {
   "cell_type": "code",
   "execution_count": 188,
   "id": "dd70cb86",
   "metadata": {},
   "outputs": [
    {
     "data": {
      "text/plain": [
       "array([0.93828662, 1.59186215, 0.41127489, 0.65196133, 1.0329713 ,\n",
       "       1.10823224, 1.28129073, 1.23730201, 1.10824097, 0.41519752])"
      ]
     },
     "execution_count": 188,
     "metadata": {},
     "output_type": "execute_result"
    }
   ],
   "source": [
    "# Standard Deviation by column\n",
    "std_dev_columns = np.std(G, axis=0)\n",
    "std_dev_columns"
   ]
  },
  {
   "cell_type": "markdown",
   "id": "9be54589",
   "metadata": {},
   "source": [
    "### Q14"
   ]
  },
  {
   "cell_type": "code",
   "execution_count": 137,
   "id": "f8ac8bf6",
   "metadata": {},
   "outputs": [
    {
     "data": {
      "image/png": "[encoded data removed]",
      "text/plain": [
       "<Figure size 640x480 with 1 Axes>"
      ]
     },
     "metadata": {},
     "output_type": "display_data"
    }
   ],
   "source": [
    "import matplotlib.pyplot as plt\n",
    "\n",
    "x = np.linspace(-1, 2, 400) # 400 values (points) between -1 and 2.\n",
    "\n",
    "d = [2, 3, 4] # Plot x^d for d in [2, 3, 4]\n",
    "for d in d:\n",
    "    y = x**d\n",
    "    plt.plot(x, y, label=f'd = {d}') # Important to label the functions if we want to use plt.legend() after\n",
    "\n",
    "plt.title(r\"Plot of $x^d$ for $d = 2, 3, 4$\")\n",
    "plt.xlabel('x')\n",
    "plt.ylabel('y')\n",
    "plt.legend()\n",
    "plt.show() # useful in terminal where plot doesn't show straight away"
   ]
  },
  {
   "cell_type": "markdown",
   "id": "6a29a89e-33b2-4347-ac21-3c69e2772445",
   "metadata": {},
   "source": [
    "## Numpy broadcasting"
   ]
  },
  {
   "cell_type": "markdown",
   "id": "7c34dcf2-39dc-4f78-8f3f-2bbb115808fe",
   "metadata": {},
   "source": [
    "### Q15"
   ]
  },
  {
   "cell_type": "code",
   "execution_count": 517,
   "id": "d5ba44f4-4834-4084-bdfc-4f031d71ffb0",
   "metadata": {},
   "outputs": [
    {
     "data": {
      "text/plain": [
       "array([ 1,  3,  5,  7,  9, 11, 13, 15, 17, 19])"
      ]
     },
     "execution_count": 517,
     "metadata": {},
     "output_type": "execute_result"
    }
   ],
   "source": [
    "arr = np.arange(1,20,2)\n",
    "arr"
   ]
  },
  {
   "cell_type": "code",
   "execution_count": 561,
   "id": "d934d53f-bf9d-4c7f-a5c7-6a4d07776a8b",
   "metadata": {},
   "outputs": [],
   "source": [
    "mean = np.mean(arr)\n",
    "result = arr - mean"
   ]
  },
  {
   "cell_type": "markdown",
   "id": "b362fb1a-d728-4d08-b8f3-a007df4fa731",
   "metadata": {},
   "source": [
    "> Creating an array with 3 lines and 4 columns, by first creating a (3,1) array and a (4,) array and using broadcasting to validate `arr[i, j] = 4 * i + j`\n"
   ]
  },
  {
   "cell_type": "code",
   "execution_count": 6,
   "id": "6b43fdaf-5892-4639-a662-110a418b3b80",
   "metadata": {},
   "outputs": [
    {
     "name": "stdout",
     "output_type": "stream",
     "text": [
      "[[ 0  1  2  3]\n",
      " [ 4  5  6  7]\n",
      " [ 8  9 10 11]]\n"
     ]
    },
    {
     "data": {
      "text/plain": [
       "array([4., 5., 6., 7.])"
      ]
     },
     "execution_count": 6,
     "metadata": {},
     "output_type": "execute_result"
    }
   ],
   "source": [
    "i = np.arange(3).reshape(3, 1)  # column vector\n",
    "j = np.arange(4)  # row vector\n",
    "\n",
    "arr = 4 * i + j  # shapes are copmatible with broadcasting\n",
    "\n",
    "print(arr)\n",
    "arr.shape"
   ]
  },
  {
   "cell_type": "markdown",
   "id": "70c80213-b3bf-4e87-a2cc-061b5ebab2fa",
   "metadata": {},
   "source": [
    "### Q16"
   ]
  },
  {
   "cell_type": "code",
   "execution_count": 7,
   "id": "e95904ff-fdd6-49ff-b10d-b917be7a26a5",
   "metadata": {},
   "outputs": [
    {
     "data": {
      "text/plain": [
       "array([[-4., -4., -4., -4.],\n",
       "       [ 0.,  0.,  0.,  0.],\n",
       "       [ 4.,  4.,  4.,  4.]])"
      ]
     },
     "execution_count": 7,
     "metadata": {},
     "output_type": "execute_result"
    }
   ],
   "source": [
    "col_mean = np.mean(arr, axis = 0) # Column wise mean\n",
    "\n",
    "arr - col_mean"
   ]
  },
  {
   "cell_type": "code",
   "execution_count": 14,
   "id": "eb2c5cf8-d6b5-4f65-bee6-c26472abdd24",
   "metadata": {},
   "outputs": [
    {
     "name": "stdout",
     "output_type": "stream",
     "text": [
      "[1.5 5.5 9.5]\n"
     ]
    },
    {
     "data": {
      "text/plain": [
       "array([[-1.5, -0.5,  0.5,  1.5],\n",
       "       [-1.5, -0.5,  0.5,  1.5],\n",
       "       [-1.5, -0.5,  0.5,  1.5]])"
      ]
     },
     "execution_count": 14,
     "metadata": {},
     "output_type": "execute_result"
    }
   ],
   "source": [
    "row_mean = np.mean(arr, axis = 1) # Row wise mean\n",
    "\n",
    "arr - row_mean.reshape(3,1) # reshaping by adding a dimension so that broadcasting can happen, as previous shape of (3,) was incompatible with broadcasting."
   ]
  },
  {
   "cell_type": "markdown",
   "id": "10d97419-725a-4255-9aa0-70ffc059faf0",
   "metadata": {},
   "source": [
    "### Q17"
   ]
  },
  {
   "cell_type": "code",
   "execution_count": 29,
   "id": "f04040d3-dcf4-46db-9d9b-2df5b35e9e45",
   "metadata": {},
   "outputs": [
    {
     "data": {
      "text/plain": [
       "array([[  0,   0,   0,   0,   0,   0,   0,   0,   0,   0,   0,   0],\n",
       "       [  0,   1,   2,   3,   4,   5,   6,   7,   8,   9,  10,  11],\n",
       "       [  0,   2,   4,   6,   8,  10,  12,  14,  16,  18,  20,  22],\n",
       "       [  0,   3,   6,   9,  12,  15,  18,  21,  24,  27,  30,  33],\n",
       "       [  0,   4,   8,  12,  16,  20,  24,  28,  32,  36,  40,  44],\n",
       "       [  0,   5,  10,  15,  20,  25,  30,  35,  40,  45,  50,  55],\n",
       "       [  0,   6,  12,  18,  24,  30,  36,  42,  48,  54,  60,  66],\n",
       "       [  0,   7,  14,  21,  28,  35,  42,  49,  56,  63,  70,  77],\n",
       "       [  0,   8,  16,  24,  32,  40,  48,  56,  64,  72,  80,  88],\n",
       "       [  0,   9,  18,  27,  36,  45,  54,  63,  72,  81,  90,  99],\n",
       "       [  0,  10,  20,  30,  40,  50,  60,  70,  80,  90, 100, 110],\n",
       "       [  0,  11,  22,  33,  44,  55,  66,  77,  88,  99, 110, 121]])"
      ]
     },
     "execution_count": 29,
     "metadata": {},
     "output_type": "execute_result"
    }
   ],
   "source": [
    "\n",
    "col_vec = np.arange(12)\n",
    "row_vec = np.arange(12).reshape(12,1)\n",
    "\n",
    "arr = col_vec * row_vec\n",
    "arr\n",
    "# arr[i, j] = i * j"
   ]
  },
  {
   "cell_type": "markdown",
   "id": "f8094b78",
   "metadata": {},
   "source": [
    "## Value and reference types"
   ]
  },
  {
   "cell_type": "markdown",
   "id": "690851aa",
   "metadata": {},
   "source": [
    "### Q18"
   ]
  },
  {
   "cell_type": "code",
   "execution_count": 63,
   "id": "2a98270a",
   "metadata": {},
   "outputs": [
    {
     "name": "stdout",
     "output_type": "stream",
     "text": [
      "id(a): 5621163472\n",
      "id(b): 5621157712\n",
      "id(c): 5621163472\n",
      "True\n",
      "False\n"
     ]
    }
   ],
   "source": [
    "a = 1_000\n",
    "print(f\"id(a): {id(a)}\")\n",
    "b = 1_000\n",
    "print(f\"id(b): {id(b)}\")\n",
    "c = a\n",
    "print(f\"id(c): {id(c)}\")\n",
    "\n",
    "print(a == b) # Returns True: both variables have the same value.\n",
    "print(a is b) # Returns False: both variables do not reference the same object."
   ]
  },
  {
   "cell_type": "markdown",
   "id": "f156ab8b",
   "metadata": {},
   "source": [
    "`c` is just a pointer to `a` and thus both point at the same stored object, hence they have the same id.\n",
    "\n",
    "`b`is equal to `a`but by creating `b` we created another object \"1000\", thus it is stored elsewhere and has different value"
   ]
  },
  {
   "cell_type": "code",
   "execution_count": 64,
   "id": "9a303be9",
   "metadata": {},
   "outputs": [
    {
     "name": "stdout",
     "output_type": "stream",
     "text": [
      "id(a): 5621161808\n",
      "id(b): 5621157712\n",
      "id(c): 5621163472\n"
     ]
    }
   ],
   "source": [
    "a+=1\n",
    "print(f\"id(a): {id(a)}\")\n",
    "print(f\"id(b): {id(b)}\")\n",
    "print(f\"id(c): {id(c)}\")"
   ]
  },
  {
   "cell_type": "markdown",
   "id": "32e9172b",
   "metadata": {},
   "source": [
    "Without re-running `c = a`, `c` still references the \"old\" `a` value and thus has the same id, `b` does not change either as it does not depend on `a`.\n",
    "\n",
    "However, `a`changes as it is now equal to 1001, a NEW object (as integers are immutable and thus cannot be modified)."
   ]
  },
  {
   "cell_type": "markdown",
   "id": "9a74c8fd",
   "metadata": {},
   "source": [
    "### Q19"
   ]
  },
  {
   "cell_type": "code",
   "execution_count": 72,
   "id": "96a16c3f",
   "metadata": {},
   "outputs": [],
   "source": [
    "a = np.array([0, 1])\n",
    "b = np.array([0, 1])\n",
    "c = a"
   ]
  },
  {
   "cell_type": "code",
   "execution_count": 73,
   "id": "0c2bb611",
   "metadata": {},
   "outputs": [
    {
     "name": "stdout",
     "output_type": "stream",
     "text": [
      "id(a):5624356208\n",
      "id(b):5624356016\n",
      "id(c):5624356208\n",
      "[ True  True]\n",
      "True\n"
     ]
    }
   ],
   "source": [
    "print(f\"id(a):{id(a)}\")\n",
    "print(f\"id(b):{id(b)}\")\n",
    "print(f\"id(c):{id(c)}\")\n",
    "\n",
    "print(a == c)\n",
    "print(a is c)"
   ]
  },
  {
   "cell_type": "markdown",
   "id": "7fc60e9d",
   "metadata": {},
   "source": [
    "At first glance, we can imagine that arrays work just like integers and due to the id values returned here. `id(a)` is again equal to `id(c)`. We notice that it is because `a` and `c`reference the same object again, but `b`references another object with the same value. Now let's continue "
   ]
  },
  {
   "cell_type": "code",
   "execution_count": 74,
   "id": "762fc044",
   "metadata": {},
   "outputs": [
    {
     "name": "stdout",
     "output_type": "stream",
     "text": [
      "id(a):5624356208\n",
      "id(b):5624356016\n",
      "id(c):5624356208\n"
     ]
    }
   ],
   "source": [
    "a+=1\n",
    "print(f\"id(a):{id(a)}\")\n",
    "print(f\"id(b):{id(b)}\")\n",
    "print(f\"id(c):{id(c)}\")"
   ]
  },
  {
   "cell_type": "markdown",
   "id": "2a4bac78",
   "metadata": {},
   "source": [
    "We notice that `b` has the same id because it is an object independent from `a`.\n",
    "\n",
    "However, `a` still has the same id in memory, which is different from what we have seen working with integers. Moreover, `c` now has the same id as the \"new\" `a`, which is also different from before.\n",
    "\n",
    "All this comes from the fact that unlike integers, numpy ndarrays are **mutable** which means that an object can be modified and there is no need to point a variable out to a new object. This means that when I perform in-place addition (a+=1), Python is going to modify the existing object, changing it to a new value instead of creating another object equal to this ne value.\n",
    "\n",
    "Additionally, as `c`just acts as a pointer to `a`, when `a` changes `c` too without having to re-run `c = a` because c does not point to the integer but to the array `a`.\n",
    "\n",
    "In-place addition does this, if we would have done `a = a + 1` (out-of-place addition), the result would have assigned `a` to a new array equal to `a + 1` and `c` would have still pointed to the old `a` array."
   ]
  },
  {
   "cell_type": "markdown",
   "id": "07937574",
   "metadata": {},
   "source": [
    "### Q20"
   ]
  },
  {
   "cell_type": "code",
   "execution_count": 96,
   "id": "da0cb184",
   "metadata": {},
   "outputs": [],
   "source": [
    "def f(a): a += 1"
   ]
  },
  {
   "cell_type": "code",
   "execution_count": 90,
   "id": "b727fe3a",
   "metadata": {},
   "outputs": [
    {
     "name": "stdout",
     "output_type": "stream",
     "text": [
      "1\n"
     ]
    }
   ],
   "source": [
    "a = 1\n",
    "f(a)\n",
    "print(a)"
   ]
  },
  {
   "cell_type": "markdown",
   "id": "0a576a8d",
   "metadata": {},
   "source": [
    "After receiving a copy of the reference to the object 1, the function changes the local variable inside the function by creating a new object (as integers are immuatable) with the value 2 and assigning it to `a`. The `a` outside the function is still equal to 1 though. "
   ]
  },
  {
   "cell_type": "code",
   "execution_count": 97,
   "id": "a9aa62ca",
   "metadata": {},
   "outputs": [
    {
     "data": {
      "text/plain": [
       "array([2., 2., 2., 2., 2., 2., 2., 2., 2., 2.])"
      ]
     },
     "execution_count": 97,
     "metadata": {},
     "output_type": "execute_result"
    }
   ],
   "source": [
    "a = np.ones(10)\n",
    "f(a)\n",
    "a"
   ]
  },
  {
   "cell_type": "markdown",
   "id": "b4bdad30",
   "metadata": {},
   "source": [
    "As arrays are mutable, function can modify the **original** array by adding 1 element-wise therefore modifying the array outside the function. Here f works with the original object and not a copy of the reference to an object, thus its result is permanently applied on the original object. Notice that the result would have been the same as with integers if we used `a = a + 1`(out-of-place addition)."
   ]
  },
  {
   "cell_type": "markdown",
   "id": "36df9e3a",
   "metadata": {},
   "source": [
    "### Q21"
   ]
  },
  {
   "cell_type": "code",
   "execution_count": 156,
   "id": "f0f08fb5",
   "metadata": {},
   "outputs": [
    {
     "name": "stdout",
     "output_type": "stream",
     "text": [
      "id(a): 4585941552\n",
      "id(b): 5623732368\n"
     ]
    }
   ],
   "source": [
    "a = np.zeros(10)\n",
    "b = np.ones(10)\n",
    "\n",
    "print(f\"id(a): {id(a)}\")\n",
    "print(f\"id(b): {id(b)}\")"
   ]
  },
  {
   "cell_type": "code",
   "execution_count": 164,
   "id": "ad2dbcf3",
   "metadata": {},
   "outputs": [
    {
     "name": "stdout",
     "output_type": "stream",
     "text": [
      "id(a): 5623732368\n",
      "id(b): 5623732368\n",
      "True\n",
      "True\n"
     ]
    },
    {
     "data": {
      "text/plain": [
       "array([100.,   1.,   1.,   1.,   1.,   1.,   1.,   1.,   1.,   1.])"
      ]
     },
     "execution_count": 164,
     "metadata": {},
     "output_type": "execute_result"
    }
   ],
   "source": [
    "a = b\n",
    "print(f\"id(a): {id(a)}\")\n",
    "print(f\"id(b): {id(b)}\")\n",
    "\n",
    "print(np.allclose(a,b))\n",
    "print(a is b)\n",
    "# Here a = b reassigns the variable a to reference the same object as b. a is now a reference to b and thus both variables are referencing the same object. Both variables not only have the same value but point to the same object.\n",
    "# Any change made to b will also affect a\n",
    "b[0]=100\n",
    "a"
   ]
  },
  {
   "cell_type": "code",
   "execution_count": 165,
   "id": "c48ae7c6",
   "metadata": {},
   "outputs": [
    {
     "name": "stdout",
     "output_type": "stream",
     "text": [
      "id(a): 5623732368\n",
      "id(b): 5623732368\n",
      "True\n",
      "True\n"
     ]
    }
   ],
   "source": [
    "a[:] = b\n",
    "print(f\"id(a): {id(a)}\")\n",
    "print(f\"id(b): {id(b)}\")\n",
    "\n",
    "print(np.allclose(a,b))\n",
    "print(a is b) # As you can see, a and b have the same value, but unlike before they are not the same object.\n",
    "\n",
    "# Here, it is a slice so things are performed differently. The elements of a are being replaced by the ones of b, element-wise. \n",
    "# Thus, elements of b are copied one by one and pasted in a, at the same indexes.\n",
    "# a is now a copy of b, but they still are two distinct objects. Modifying b will not affect a a vice-versa.\n"
   ]
  },
  {
   "cell_type": "markdown",
   "id": "9bc13f9c",
   "metadata": {},
   "source": [
    "`a += 1` modifies an existing object while `a = a + 1` creates a new object and assings it the value `a + 1`. This leads to different behaviors depending on whether the object in question is mutable or immutable.\n",
    "\n",
    "#### Immutable objects (e.g. integers, floats, strings)\n",
    "\n",
    "For immutable objects, in-place modification doesn't work because immutable objects can only be created or deleted, not modified. Hence, `a += 1` and `a = a + 1` behave identically: the original integer object remains untouched, while a new object is created and the variable a is reassigned to this new object, leaving the old one untouched.\n",
    "\n",
    "#### Mutable objects (e.g. arrays, lists, dictionaries)\n",
    "\n",
    "Now, the difference comes with mutable objects, which by definition can be modified after their creation.\n",
    "\n",
    "**in-place modification (`a += 1`):** this modifies the original object, meaning the memory address (id) will remain the same, and other variables referencing the same object will see the updated value instead of the old one.\n",
    "\n",
    "**in-place modification (`a = a + 1`):** this creates a new object, and `a` is reassigned to this new object. If `a` was referenced by other variables, they will not see this change, as they still point to the old object."
   ]
  },
  {
   "cell_type": "markdown",
   "id": "75d568ff",
   "metadata": {},
   "source": []
  }
 ],
 "metadata": {
  "kernelspec": {
   "display_name": "Python 3 (ipykernel)",
   "language": "python",
   "name": "python3"
  },
  "language_info": {
   "codemirror_mode": {
    "name": "ipython",
    "version": 3
   },
   "file_extension": ".py",
   "mimetype": "text/x-python",
   "name": "python",
   "nbconvert_exporter": "python",
   "pygments_lexer": "ipython3",
   "version": "3.12.4"
  }
 },
 "nbformat": 4,
 "nbformat_minor": 5
}
